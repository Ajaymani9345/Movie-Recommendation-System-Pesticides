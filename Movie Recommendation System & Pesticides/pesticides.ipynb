{
  "nbformat": 4,
  "nbformat_minor": 0,
  "metadata": {
    "colab": {
      "provenance": [],
      "gpuType": "T4"
    },
    "kernelspec": {
      "name": "python3",
      "display_name": "Python 3"
    },
    "language_info": {
      "name": "python"
    },
    "accelerator": "GPU"
  },
  "cells": [
    {
      "cell_type": "code",
      "execution_count": 1,
      "metadata": {
        "colab": {
          "base_uri": "https://localhost:8080/",
          "height": 17
        },
        "id": "NOZxt25o4cgp",
        "outputId": "5a4dfa43-1135-4759-9ec5-ae7635fbaafd"
      },
      "outputs": [
        {
          "output_type": "display_data",
          "data": {
            "text/plain": [
              "<IPython.core.display.Javascript object>"
            ],
            "application/javascript": [
              "\n",
              "    async function download(id, filename, size) {\n",
              "      if (!google.colab.kernel.accessAllowed) {\n",
              "        return;\n",
              "      }\n",
              "      const div = document.createElement('div');\n",
              "      const label = document.createElement('label');\n",
              "      label.textContent = `Downloading \"${filename}\": `;\n",
              "      div.appendChild(label);\n",
              "      const progress = document.createElement('progress');\n",
              "      progress.max = size;\n",
              "      div.appendChild(progress);\n",
              "      document.body.appendChild(div);\n",
              "\n",
              "      const buffers = [];\n",
              "      let downloaded = 0;\n",
              "\n",
              "      const channel = await google.colab.kernel.comms.open(id);\n",
              "      // Send a message to notify the kernel that we're ready.\n",
              "      channel.send({})\n",
              "\n",
              "      for await (const message of channel.messages) {\n",
              "        // Send a message to notify the kernel that we're ready.\n",
              "        channel.send({})\n",
              "        if (message.buffers) {\n",
              "          for (const buffer of message.buffers) {\n",
              "            buffers.push(buffer);\n",
              "            downloaded += buffer.byteLength;\n",
              "            progress.value = downloaded;\n",
              "          }\n",
              "        }\n",
              "      }\n",
              "      const blob = new Blob(buffers, {type: 'application/binary'});\n",
              "      const a = document.createElement('a');\n",
              "      a.href = window.URL.createObjectURL(blob);\n",
              "      a.download = filename;\n",
              "      div.appendChild(a);\n",
              "      a.click();\n",
              "      div.remove();\n",
              "    }\n",
              "  "
            ]
          },
          "metadata": {}
        },
        {
          "output_type": "display_data",
          "data": {
            "text/plain": [
              "<IPython.core.display.Javascript object>"
            ],
            "application/javascript": [
              "download(\"download_83d5f081-ae73-4917-a21b-7cf26d90e176\", \"Crop_Locality_Taluk_Data.xlsx\", 5644)"
            ]
          },
          "metadata": {}
        }
      ],
      "source": [
        "import pandas as pd\n",
        "\n",
        "# Define the data\n",
        "data = {\n",
        "    \"Crop Name\": [\"Tea\", \"Tea\", \"Tea\", \"Tea\", \"Tea\", \"Coffee\", \"Coffee\", \"Banana\", \"Banana\", \"Banana\", \"Banana\",\n",
        "                  \"Coconut\", \"Coconut\", \"Coconut\", \"Sugarcane\", \"Sugarcane\", \"Turmeric\", \"Turmeric\", \"Turmeric\", \"Pepper\"],\n",
        "    \"Major District\": [\"The Nilgiris\", \"The Nilgiris\", \"The Nilgiris\", \"The Nilgiris\", \"Coimbatore\", \"Dindigul\", \"Salem\",\n",
        "                       \"Thoothukudi\", \"Trichy\", \"Trichy\", \"Theni\", \"Coimbatore\", \"Coimbatore\", \"Coimbatore\", \"Villupuram\",\n",
        "                       \"Cuddalore\", \"Erode\", \"Erode\", \"Erode\", \"Kanyakumari\"],\n",
        "    \"Specific Locality\": [\"Coonoor\", \"Kotagiri\", \"Ooty\", \"Gudalur\", \"Valparai\", \"Kodaikanal & Sirumalai Hills\",\n",
        "                          \"Yercaud Hills\", \"Thamirabarani river plains\", \"Lalgudi\", \"Thottiyam belts\", \"Cumbum Valley\",\n",
        "                          \"Pollachi\", \"Anaimalai\", \"Udumalaipettai\", \"Mundiyampakkam area\", \"Nellikuppam area\",\n",
        "                          \"Erode city\", \"Gobichettipalayam\", \"Bhavani\", \"Hilly areas (Pechiparai, Kalakkad)\"],\n",
        "    \"Main Taluk\": [\"Coonoor\", \"Kotagiri\", \"Ooty\", \"Gudalur\", \"Valparai\", \"Kodaikanal\", \"Yercaud\", \"Thamirabarani\",\n",
        "                   \"Lalgudi\", \"Thottiyam\", \"Cumbum\", \"Pollachi\", \"Anaimalai\", \"Udumalaipettai\", \"Mundiyampakkam\",\n",
        "                   \"Nellikuppam\", \"Erode\", \"Gobichettipalayam\", \"Bhavani\", \"Pechiparai\"]\n",
        "}\n",
        "\n",
        "# Create DataFrame\n",
        "df = pd.DataFrame(data)\n",
        "\n",
        "# Save to Excel\n",
        "file_name = \"Crop_Locality_Taluk_Data.xlsx\"\n",
        "df.to_excel(file_name, index=False)\n",
        "\n",
        "# Download file\n",
        "from google.colab import files\n",
        "files.download(file_name)\n"
      ]
    }
  ]
}